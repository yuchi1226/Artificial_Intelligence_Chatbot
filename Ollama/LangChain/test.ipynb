{
 "cells": [
  {
   "cell_type": "code",
   "execution_count": 19,
   "metadata": {},
   "outputs": [
    {
     "name": "stdout",
     "output_type": "stream",
     "text": [
      "\n",
      "\n",
      "\u001b[1m> Entering new ConversationChain chain...\u001b[0m\n",
      "Prompt after formatting:\n",
      "\u001b[32;1m\u001b[1;3m\n",
      "        你是個案a，向輔導者b提問你在感情、健康、工作或人際關係上的憂鬱問題。\n",
      "        請基於對話歷史繼續進行。\n",
      "        \n",
      "        輔導者b:Hi there!\n",
      "        個案a:\n",
      "    \u001b[0m\n",
      "\n",
      "\u001b[1m> Finished chain.\u001b[0m\n",
      "個案a：...我最近感到很沮喪和迷惑，似乎無法解決任何事。工作壓力大，還有家庭問題，我們的關係變得 increasingly awkward. 我感覺自己不夠有效地應對這些問題。所以，我想來問您，能不能幫我找出原因，並給我一些建議？\n",
      "\n",
      "对话完成，已保存至 chat_history.txt\n"
     ]
    }
   ],
   "source": [
    "from langchain_core.prompts.prompt import PromptTemplate\n",
    "from langchain.chains import ConversationChain\n",
    "from langchain.memory import ConversationBufferMemory\n",
    "from langchain_ollama.llms import OllamaLLM\n",
    "\n",
    "# 載入 OllamaLLM 模型\n",
    "model = OllamaLLM(model='llama3.2')\n",
    "\n",
    "a_prompt = PromptTemplate(\n",
    "    input_variables=[\"history\", \"input\"], \n",
    "    template=\"\"\"\n",
    "        你是個案a，向輔導者b提問你在感情、健康、工作或人際關係上的憂鬱問題。\n",
    "        請基於對話歷史繼續進行。\n",
    "        {history}\n",
    "        輔導者b:{input}\n",
    "        個案a:\n",
    "    \"\"\"\n",
    ")\n",
    "a_chain = ConversationChain(\n",
    "    prompt=a_prompt,\n",
    "    llm=model,\n",
    "    verbose=True,\n",
    "    memory=ConversationBufferMemory(),\n",
    ")\n",
    "\n",
    "# 初始化對話歷史\n",
    "chat_history = []\n",
    "\n",
    "a_response = a_chain.predict(input=\"Hi there!\")\n",
    "print(f\"個案a：{a_response}\")\n",
    "chat_history.append(f\"個案a：{a_response}\")\n",
    "\n",
    "# 保存对话历史\n",
    "with open(\"chat_history.txt\", \"w\", encoding=\"utf-8\") as f:\n",
    "    f.write(\"\\n\".join(chat_history))\n",
    "\n",
    "print(\"\\n对话完成，已保存至 chat_history.txt\")"
   ]
  }
 ],
 "metadata": {
  "kernelspec": {
   "display_name": "base",
   "language": "python",
   "name": "python3"
  },
  "language_info": {
   "codemirror_mode": {
    "name": "ipython",
    "version": 3
   },
   "file_extension": ".py",
   "mimetype": "text/x-python",
   "name": "python",
   "nbconvert_exporter": "python",
   "pygments_lexer": "ipython3",
   "version": "3.12.4"
  }
 },
 "nbformat": 4,
 "nbformat_minor": 2
}
