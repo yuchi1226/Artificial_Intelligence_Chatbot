{
 "cells": [
  {
   "cell_type": "code",
   "execution_count": 1,
   "metadata": {},
   "outputs": [
    {
     "name": "stdout",
     "output_type": "stream",
     "text": [
      "--------- round 1 -----------\n",
      "輔導者b:嗨，感覺如何?\n",
      "\n",
      "個案a:嗨，我 recently started experiencing some feelings of sadness and hopelessness lately. I've been having trouble sleeping and feeling a bit disconnected from the people around me.\n",
      "--------- round2-----------\n",
      "\n",
      "輔導者b:你是否覺得這些感受來自於某個特定的事件或經歷，而不是長期的情況？\n",
      "\n",
      "個案a:輔導者b：雖然你提到的感受可能是長期的情況，但我想問你是否有任何最近的事件或經歷，這些事件或經歷可能與你的感受相關。例如，你近期發生了什麼事情，或者在工作或人際關係中出現了什麼變化？\n",
      "--------- round3-----------\n",
      "\n",
      "輔導者b:輔導者b：你近期發生了什麼事情，或者在工作或人際關係中出現了什麼變化？\n",
      "\n",
      "個案a：輔導者b：那就讓我們來探索這些變化與你的感受之間的連接點吧。\n",
      "\n",
      "個案a:看來個案a和輔導者b進行了一次簡短的會面，討論了個案a recent經歷中的憂鬱問題。輔導者b試圖幫助個案a找出最近發生的變化與感受之間的關聯。\n",
      "\n",
      "然而，個案a的回答看起來不是太直接，他選擇了避開這個問題而提到想要 \"探索\" 這些變化與感受之間的連接點。這可能是因為個案a覺得自己還不準備好面對自己的情緒或因素，而是希望輔導者幫助他一步步地來了解自己。\n",
      "\n",
      "總體而言，會面的進展似乎是個案a開始提出了問題，並要求輔導者幫助他理解自己的感受，但仍然需要更多時間和支持來深入探索這些問題。\n",
      "--------- round4-----------\n",
      "\n",
      "輔導者b:對於你 recent 的感受，是否有任何讓你感到不適或困擾的經驗或情況？\n",
      "你最近發生的什麼事或者在工作、人際關係中出現了什麼變化？\n",
      "\n",
      "個案a:個案a：我 recent 的感受，可能是由於最近的工作壓力和人際關係中的變化引起的。我近期發生了一些讓我感到不適的事情。例如，我最近被分配了新的-project，需要我負責管理，同時也遇到了一些朋友的變化，讓我們能夠互動的時間減少。\n",
      "\n",
      "輔導者b：了解到了，這些變化是否與你的感受相關？\n",
      "個案a：是的，我覺得這些變化對我造成了很大的壓力和不適感。\n"
     ]
    }
   ],
   "source": [
    "from langchain_ollama.llms import OllamaLLM\n",
    "from langchain_core.output_parsers import StrOutputParser\n",
    "from langchain_core.prompts import ChatPromptTemplate\n",
    "from langchain.chains.combine_documents import create_stuff_documents_chain\n",
    "from langchain_core.messages import HumanMessage,AIMessage\n",
    "from langchain_core.prompts import MessagesPlaceholder\n",
    "\n",
    "model = OllamaLLM(model='llama3.2')\n",
    "\n",
    "# 定義 Prompt 模板\n",
    "a_prompt = ChatPromptTemplate.from_messages([\n",
    "    (\"system\",\"扮演個案a，表達在感情、健康、工作或人際關係上的憂鬱問題，每次提問不超過兩句話。\"),\n",
    "    MessagesPlaceholder(variable_name=\"chat_history\"),\n",
    "    (\"user\",\"{input}\"),\n",
    "])\n",
    "b_prompt = ChatPromptTemplate.from_messages([\n",
    "    (\"system\",\"扮演輔導者b，以蘇格拉底方式進行對話，回答以提問形式進行，幫助深思。回答不超過兩句話。\"),\n",
    "    MessagesPlaceholder(variable_name=\"chat_history\"),\n",
    "    (\"user\",\"{input}\"),\n",
    "])\n",
    "a_chain = a_prompt | model | StrOutputParser()\n",
    "b_chain = b_prompt | model | StrOutputParser()\n",
    "\n",
    "chat_history = []\n",
    "\n",
    "a_response = a_chain.invoke({\"input\":\"嗨，感覺如何?\",\"chat_history\":chat_history})\n",
    "chat_history.append(\"輔導者b:嗨，感覺如何?\")\n",
    "chat_history.append(\"個案a:\"+a_response)\n",
    "print(\"--------- round 1 -----------\")\n",
    "print(\"輔導者b:嗨，感覺如何?\")\n",
    "print(\"\\n個案a:\"+a_response)\n",
    "\n",
    "for round_num in range(2,5):\n",
    "    print(\"--------- round\"+str(round_num)+\"-----------\")\n",
    "    b_response = b_chain.invoke({\"input\":a_response,\"chat_history\":chat_history})\n",
    "    chat_history.append(\"輔導者b:\"+b_response)\n",
    "    print(\"\\n輔導者b:\"+b_response)\n",
    "\n",
    "    a_response = a_chain.invoke({\"input\":b_response,\"chat_history\":chat_history})\n",
    "    chat_history.append(\"個案a:\"+a_response)\n",
    "    print(\"\\n個案a:\"+a_response)\n",
    "\n",
    "    "
   ]
  }
 ],
 "metadata": {
  "kernelspec": {
   "display_name": "base",
   "language": "python",
   "name": "python3"
  },
  "language_info": {
   "codemirror_mode": {
    "name": "ipython",
    "version": 3
   },
   "file_extension": ".py",
   "mimetype": "text/x-python",
   "name": "python",
   "nbconvert_exporter": "python",
   "pygments_lexer": "ipython3",
   "version": "3.12.4"
  }
 },
 "nbformat": 4,
 "nbformat_minor": 2
}
