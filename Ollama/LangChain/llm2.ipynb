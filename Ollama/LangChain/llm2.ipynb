{
 "cells": [
  {
   "cell_type": "code",
   "execution_count": 7,
   "metadata": {},
   "outputs": [
    {
     "name": "stdout",
     "output_type": "stream",
     "text": [
      "\n",
      "\n",
      "\u001b[1m> Entering new LLMChain chain...\u001b[0m\n",
      "Prompt after formatting:\n",
      "\u001b[32;1m\u001b[1;3m\n",
      "        你是個案a，向輔導者b提問你在感情、健康、工作或人際關係上的憂鬱問題: \n",
      "        請基於對話歷史繼續進行。\n",
      "        對話歷史：                                            \n",
      "        輔導者b : 嗨，感覺如何?\n",
      "    \u001b[0m\n",
      "\n",
      "\u001b[1m> Finished chain.\u001b[0m\n",
      "個案a：*a： *呼出一口氣* cảm thấyreallylost，無法找到自己的方向。最近的工作壓力太大，開始對自己感到失望。\n",
      "\n",
      "對話完成，已儲存至 chat_history.txt\n"
     ]
    }
   ],
   "source": [
    "from langchain_ollama.llms import OllamaLLM\n",
    "from langchain_core.prompts import PromptTemplate\n",
    "from langchain.memory import ConversationBufferMemory\n",
    "from langchain.chains import LLMChain\n",
    "\n",
    "# 載入 OllamaLLM 模型\n",
    "model = OllamaLLM(model='llama3.2')\n",
    "\n",
    "# 定義 Prompt 模板\n",
    "a_prompt = PromptTemplate(\n",
    "    input_variables=[\"chat_history\", \"b_input\"],\n",
    "    template=\"\"\"\n",
    "        你是個案a，向輔導者b提問你在感情、健康、工作或人際關係上的憂鬱問題。\n",
    "        請基於對話歷史繼續進行。\n",
    "        對話歷史：{chat_history}                                            \n",
    "        輔導者b : {b_input}\n",
    "    \"\"\"\n",
    ")\n",
    "\n",
    "b_prompt = PromptTemplate(\n",
    "    input_variables=[\"chat_history\", \"a_input\"],\n",
    "    template=\"\"\"\n",
    "        你是輔導者b，以蘇格拉底方式進行對話，每次回答以提問形式進行，幫助個案a深思。\n",
    "        請基於對話歷史和個案a的問題，提出適當的引導問題。\n",
    "        對話歷史：{chat_history}\n",
    "        個案a： {a_input}\n",
    "    \"\"\"\n",
    ")\n",
    "\n",
    "memory = ConversationBufferMemory(memory_key=\"chat_history\")\n",
    "# 定義對話流程\n",
    "a_chain = LLMChain(llm=model, prompt=a_prompt, verbose=True, memory=memory)\n",
    "b_chain = LLMChain(llm=model, prompt=a_prompt, verbose=True, memory=memory)\n",
    "\n",
    "# 初始化對話歷史\n",
    "chat_history = []\n",
    "\n",
    "a_response = a_chain.predict(b_input=\"嗨，感覺如何?\")\n",
    "print(f\"個案a：{a_response}\")\n",
    "# 更新對話歷史\n",
    "memory.save_context({\"input\": \"嗨，感覺如何?\"}, {\"output\": a_response})\n",
    "# 儲存對話內容\n",
    "with open(\"chat_history.txt\", \"w\", encoding=\"utf-8\") as file:\n",
    "    file.write(memory.load_memory_variables({})[\"chat_history\"])\n",
    "\n",
    "print(\"\\n對話完成，已儲存至 chat_history.txt\")\n",
    "# # 模擬五回合對話\n",
    "# for round_num in range(1, 6):\n",
    "#     b_response = b_chain.invoke({\"a_input\":a_response})\n",
    "#     print(\"輔導者b: \" + b_response)\n",
    "#     a_response = a_chain.invoke({\"b_input\":b_response})\n",
    "#     print(\"個案a: \" + a_response)"
   ]
  }
 ],
 "metadata": {
  "kernelspec": {
   "display_name": "base",
   "language": "python",
   "name": "python3"
  },
  "language_info": {
   "codemirror_mode": {
    "name": "ipython",
    "version": 3
   },
   "file_extension": ".py",
   "mimetype": "text/x-python",
   "name": "python",
   "nbconvert_exporter": "python",
   "pygments_lexer": "ipython3",
   "version": "3.12.4"
  }
 },
 "nbformat": 4,
 "nbformat_minor": 2
}
