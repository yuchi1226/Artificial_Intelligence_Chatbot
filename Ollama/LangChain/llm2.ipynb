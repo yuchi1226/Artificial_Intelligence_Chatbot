{
 "cells": [
  {
   "cell_type": "code",
   "execution_count": 11,
   "metadata": {},
   "outputs": [
    {
     "ename": "AttributeError",
     "evalue": "messages",
     "output_type": "error",
     "traceback": [
      "\u001b[0;31m---------------------------------------------------------------------------\u001b[0m",
      "\u001b[0;31mAttributeError\u001b[0m                            Traceback (most recent call last)",
      "Cell \u001b[0;32mIn[11], line 11\u001b[0m\n\u001b[1;32m      8\u001b[0m model \u001b[38;5;241m=\u001b[39m OllamaLLM(model\u001b[38;5;241m=\u001b[39m\u001b[38;5;124m'\u001b[39m\u001b[38;5;124mllama3.2\u001b[39m\u001b[38;5;124m'\u001b[39m)\n\u001b[1;32m     10\u001b[0m \u001b[38;5;66;03m# 定義 Prompt 模板\u001b[39;00m\n\u001b[0;32m---> 11\u001b[0m a_prompt \u001b[38;5;241m=\u001b[39m ChatPromptTemplate\u001b[38;5;241m.\u001b[39mmessages([\n\u001b[1;32m     12\u001b[0m     (\u001b[38;5;124m\"\u001b[39m\u001b[38;5;124msystem\u001b[39m\u001b[38;5;124m\"\u001b[39m,\u001b[38;5;124m\"\u001b[39m\u001b[38;5;124m你是個案a，向輔導者b提問你在感情、健康、工作或人際關係上的憂鬱問題。請基於對話歷史繼續進行。\u001b[39m\u001b[38;5;124m\"\u001b[39m),\n\u001b[1;32m     13\u001b[0m     MessagesPlaceholder(variable_name\u001b[38;5;241m=\u001b[39m\u001b[38;5;124m\"\u001b[39m\u001b[38;5;124mchat_history\u001b[39m\u001b[38;5;124m\"\u001b[39m),\n\u001b[1;32m     14\u001b[0m     (\u001b[38;5;124m\"\u001b[39m\u001b[38;5;124mhuman\u001b[39m\u001b[38;5;124m\"\u001b[39m,\u001b[38;5;124m\"\u001b[39m\u001b[38;5;124m嗨，感覺如何?\u001b[39m\u001b[38;5;124m\"\u001b[39m)\n\u001b[1;32m     15\u001b[0m ])\n\u001b[1;32m     18\u001b[0m a_chain \u001b[38;5;241m=\u001b[39m a_prompt \u001b[38;5;241m|\u001b[39m model\n\u001b[1;32m     20\u001b[0m \u001b[38;5;66;03m# 初始化對話歷史\u001b[39;00m\n",
      "File \u001b[0;32m~/anaconda3/lib/python3.12/site-packages/pydantic/_internal/_model_construction.py:264\u001b[0m, in \u001b[0;36mModelMetaclass.__getattr__\u001b[0;34m(self, item)\u001b[0m\n\u001b[1;32m    262\u001b[0m \u001b[38;5;28;01mif\u001b[39;00m private_attributes \u001b[38;5;129;01mand\u001b[39;00m item \u001b[38;5;129;01min\u001b[39;00m private_attributes:\n\u001b[1;32m    263\u001b[0m     \u001b[38;5;28;01mreturn\u001b[39;00m private_attributes[item]\n\u001b[0;32m--> 264\u001b[0m \u001b[38;5;28;01mraise\u001b[39;00m \u001b[38;5;167;01mAttributeError\u001b[39;00m(item)\n",
      "\u001b[0;31mAttributeError\u001b[0m: messages"
     ]
    }
   ],
   "source": [
    "from langchain_ollama.llms import OllamaLLM\n",
    "from langchain_core.prompts import MessagesPlaceholder\n",
    "from langchain.memory import ConversationBufferMemory\n",
    "from langchain.chains import LLMChain\n",
    "from langchain_core.prompts import ChatPromptTemplate\n",
    "\n",
    "# 載入 OllamaLLM 模型\n",
    "model = OllamaLLM(model='llama3.2')\n",
    "\n",
    "# 定義 Prompt 模板\n",
    "a_prompt = ChatPromptTemplate.from_template(\"\"\"\n",
    "    你是個案a，向輔導者b提問你在感情、健康、工作或人際關係上的憂鬱問題。\n",
    "    請基於對話歷史繼續進行。\n",
    "    對話歷史：{chat_history}                                            \n",
    "    輔導者b : {b_input}\n",
    "\"\"\")\n",
    "\n",
    "b_prompt = ChatPromptTemplate.from_template(\"\"\"\n",
    "    你是輔導者b，以蘇格拉底方式進行對話，每次回答以提問形式進行，幫助個案a深思。\n",
    "    請基於對話歷史和個案a的問題，提出適當的引導問題。\n",
    "    對話歷史：{chat_history}\n",
    "    個案a： {a_input}\n",
    "\"\"\")\n",
    "\n",
    "memory = ConversationBufferMemory(memory_key=\"chat_history\")\n",
    "# 定義對話流程\n",
    "a_chain = LLMChain(llm=model, prompt=a_prompt, verbose=True, memory=memory)\n",
    "b_chain = LLMChain(llm=model, prompt=a_prompt, verbose=True, memory=memory)\n",
    "\n",
    "# 初始化對話歷史\n",
    "chat_history = []\n",
    "\n",
    "a_response = a_chain.invoke({\"chat_history\":chat_history,\"input\":\"嗨，感覺如何?\"})\n",
    "print(f\"個案a：{a_response}\")\n",
    "\n",
    "\n",
    "# # 模擬五回合對話\n",
    "# for round_num in range(1, 6):\n",
    "#     b_response = b_chain.invoke({\"a_input\":a_response})\n",
    "#     print(\"輔導者b: \" + b_response)\n",
    "#     a_response = a_chain.invoke({\"b_input\":b_response})\n",
    "#     print(\"個案a: \" + a_response)\n",
    "\n",
    "#     memory.save_context({\"input\": \"嗨，感覺如何?\"}, {\"output\": a_response})\n",
    "\n",
    "# # 儲存對話內容\n",
    "# with open(\"chat_history.txt\", \"w\", encoding=\"utf-8\") as file:\n",
    "#     file.write(memory.load_memory_variables({})[\"chat_history\"])\n",
    "\n",
    "# print(\"\\n對話完成，已儲存至 chat_history.txt\")\n"
   ]
  }
 ],
 "metadata": {
  "kernelspec": {
   "display_name": "base",
   "language": "python",
   "name": "python3"
  },
  "language_info": {
   "codemirror_mode": {
    "name": "ipython",
    "version": 3
   },
   "file_extension": ".py",
   "mimetype": "text/x-python",
   "name": "python",
   "nbconvert_exporter": "python",
   "pygments_lexer": "ipython3",
   "version": "3.12.4"
  }
 },
 "nbformat": 4,
 "nbformat_minor": 2
}
