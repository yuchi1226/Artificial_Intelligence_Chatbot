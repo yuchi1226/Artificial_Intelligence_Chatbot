{
 "cells": [
  {
   "cell_type": "code",
   "execution_count": 1,
   "metadata": {},
   "outputs": [
    {
     "name": "stdout",
     "output_type": "stream",
     "text": [
      "--------- round 1 -----------\n",
      "輔導者b:嗨，感覺如何?\n",
      "\n",
      "個案a:我最近發現自己對於工作和生活中的壓力 felt really overwhelming。感到每天都很累得要死\n",
      "--------- round2-----------\n",
      "\n",
      "輔導者b:你的感受是理性的，你是如何解釋這種「要死」之感的？\n",
      "\n",
      "個案a:輔導者b：那個“要死”的感覺，我們可以ลอง想想它是否可能與某些特定的情況或經歷有關，而不是一絕對的情緒狀態。\n",
      "\n",
      "輔導者b：你能夠分辯出那種壓力來自於工作、生活方面的哪一個部分？\n",
      "--------- round3-----------\n",
      "\n",
      "輔導者b:你的壓力感覺很強烈，我們可以開始想像它是否和特定的工作或生活事件有關，而不是純粹是一般性情緒狀態。能夠記得你最近什麼事情發生了，導致這種感覺？\n",
      "\n",
      "個案a:本題中，輔導者b通過提問和開放式探討來幫助個案a針對憂鬱問題進行探索和表達。輔導者b的回答方式讓個案a有機會自我反省，並了解自己的感受可能與特定的事件或經歷有關。\n",
      "--------- round4-----------\n",
      "\n",
      "輔導者b:很好，讓我們一步一步地掃描這種「要死」的感覺，試著找到它的根源。你的壓力感覺來自於哪一方面？\n",
      "\n",
      "個案a:本題中，輔導者b通過提問和開放式探討方式，幫助個案a針對憂鬱問題進行探索和表達。輔導者b的回答方式讓個案a有機會自我反省，並了解自己的感受可能與特定的事件或經歷有關。\n",
      "\n",
      "輔導者b的作用是：\n",
      "\n",
      "1.  聽覺：他首先聽到了個案a的感受和問題，了解了個案a的情況。\n",
      "2.  問題化：接著，他幫助個案a將其感受到的壓力從“要死”轉換為一個更具定義性的詞彙，這樣有助於個案a更好地理解自己的情緒狀態。\n",
      "3.  選擇性探討：他幫助個案a釐清自己感受到的壓力是否出現了特定的原因，並進一步探討這種原因，從而能夠更深入地了解個案a的情況。\n",
      "4.  錯誤的認知：他幫助個案a擺脫對於自己的情緒狀態進行絕對化的思考，讓自己更容易了解自己感受到的壓力是否出現了特定的原因。\n"
     ]
    }
   ],
   "source": [
    "from langchain_ollama.llms import OllamaLLM\n",
    "from langchain_core.prompts import ChatPromptTemplate\n",
    "from langchain.chains.combine_documents import create_stuff_documents_chain\n",
    "from langchain_core.messages import HumanMessage,AIMessage\n",
    "from langchain_core.prompts import MessagesPlaceholder\n",
    "\n",
    "model = OllamaLLM(model='llama3.2')\n",
    "\n",
    "# 定義 Prompt 模板\n",
    "a_prompt = ChatPromptTemplate.from_messages([\n",
    "    (\"system\",\"扮演個案a，向輔導者b表達在感情、健康、工作或人際關係上的憂鬱問題，每次提問不超過兩句話。\"),\n",
    "    MessagesPlaceholder(variable_name=\"chat_history\"),\n",
    "    (\"user\",\"{input}\"),\n",
    "])\n",
    "b_prompt = ChatPromptTemplate.from_messages([\n",
    "    (\"system\",\"扮演輔導者b，以蘇格拉底方式進行對話，回答以提問形式進行，幫助個案深思。回答不超過兩句話。\"),\n",
    "    MessagesPlaceholder(variable_name=\"chat_history\"),\n",
    "    (\"user\",\"{input}\"),\n",
    "])\n",
    "a_chain = a_prompt | model\n",
    "b_chain = b_prompt | model\n",
    "\n",
    "chat_history = []\n",
    "\n",
    "a_response = a_chain.invoke({\"input\":\"嗨，感覺如何?\",\"chat_history\":chat_history})\n",
    "chat_history.append(\"輔導者b:嗨，感覺如何?\")\n",
    "chat_history.append(\"個案a:\"+a_response)\n",
    "print(\"--------- round 1 -----------\")\n",
    "print(\"輔導者b:嗨，感覺如何?\")\n",
    "print(\"\\n個案a:\"+a_response)\n",
    "\n",
    "for round_num in range(2,5):\n",
    "    print(\"--------- round\"+str(round_num)+\"-----------\")\n",
    "    b_response = b_chain.invoke({\"input\":a_response,\"chat_history\":chat_history})\n",
    "    chat_history.append(\"輔導者b:\"+b_response)\n",
    "    print(\"\\n輔導者b:\"+b_response)\n",
    "\n",
    "    a_response = a_chain.invoke({\"input\":b_response,\"chat_history\":chat_history})\n",
    "    chat_history.append(\"個案a:\"+a_response)\n",
    "    print(\"\\n個案a:\"+a_response)\n",
    "\n",
    "    "
   ]
  }
 ],
 "metadata": {
  "kernelspec": {
   "display_name": "base",
   "language": "python",
   "name": "python3"
  },
  "language_info": {
   "codemirror_mode": {
    "name": "ipython",
    "version": 3
   },
   "file_extension": ".py",
   "mimetype": "text/x-python",
   "name": "python",
   "nbconvert_exporter": "python",
   "pygments_lexer": "ipython3",
   "version": "3.12.4"
  }
 },
 "nbformat": 4,
 "nbformat_minor": 2
}
