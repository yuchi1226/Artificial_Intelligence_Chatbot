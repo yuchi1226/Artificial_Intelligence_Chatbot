{
 "cells": [
  {
   "cell_type": "code",
   "execution_count": 4,
   "metadata": {},
   "outputs": [
    {
     "name": "stdout",
     "output_type": "stream",
     "text": [
      "a:  如果你抑郁，建議咨詢心理健康专家以了解可能的治療方法。\n",
      "\n",
      "如果你有心理健康问题，建議立即寻求心理医生或心理治疗师的指导和支持。\n",
      "CTC\n",
      "\n",
      "如果你感到不安全，建證直接対待防治部門或向人道主義者來求助。\n",
      "\n",
      "如果你感到人生的不安，建證探索文化和智力的多元化解决方案，或試著参加社群活動和支持小组。\n",
      "\n",
      "如果你悶晒在工作中，建證考慮推出自閱翻的技能強化計畫或實現對應性別和文化的多元化理解。\n",
      "\n",
      "如果你在工作生活中受到困逸，建證認真探索業界内部的支持网環結合，或實施時间管理和工作效率計算。\n",
      "\n",
      "如果你在人際交流中感到壓力，建證一起實行社會治療活動或小众群集合幫助他人。\n",
      "\n",
      "如果你有健康上的慢性困鬱，建證訪問医院或健康相職以進行全面健康評估。\n",
      "b：  \n",
      "如果你經常感到沮喪的心情和無力度，是否有人能夠指引你去寻求心理健康专家的支持？建證你們可以先想象一下，如果你正在經過一次性的挫亡或者失業事件，你感到何謂？那並非獨自足有所力，將心情慢化或發生抵抗症。如果你感到心理負荷的影，建證有人能夠提供你一些治療方法和支持服务？\n",
      "\n",
      "\n",
      "如果你在工作生活中感到嚴重絕望或價值疊亡，建證你可以試著靈通心理医師或醫師供你提達信息，一起探討這些問題。如果你感到人生的不安，建證你可以試著審慮文化和智力多元性的解决方案，或是進而去實施一些活動或小众群集合，以確保你有支持的社群。\n",
      "\n",
      "\n",
      "如果你在工作生活中受到困擾，建證你可以試著研究自我提高技能和實行時間管理術巧，以及確定是否需要更多的支持，例如這些工作僅限擁有才能解決問題。\n",
      "\n",
      "\n",
      "如果你在人際交流中感到圍裡但不知何以，建證一起實行社會治療活動或小众群集合，作爲了共同支持和理解。\n",
      "\n",
      "\n",
      "如果你在慢性困透的心情中，建證你可以立即寄信到健康相職進行全面健康評估，以及按照他/她建議去進行治療。\n",
      "\n",
      "\n",
      "\n",
      "\n",
      "### 指令 2 (更高際度)\n"
     ]
    }
   ],
   "source": [
    "from langchain.prompts import PromptTemplate\n",
    "from langchain_ollama.llms import OllamaLLM\n",
    "from langchain.chains import LLMChain\n",
    "\n",
    "\n",
    "# 初始化 Ollama 模型，分別用於 A 和 B\n",
    "llm_a = OllamaLLM(model=\"phi3\")  # 個案 (A)\n",
    "llm_b = OllamaLLM(model=\"phi3\")  # 輔導者 (B)\n",
    "\n",
    "# 定義兩個不同的 Prompt 模板\n",
    "prompt_a = PromptTemplate(\n",
    "    input_variables=[\"input_text\"],\n",
    "    template=\"請根據以下內容提問不同型態的憂鬱問題（例如感情 健康 工作 或人際關係）：{input_text}\"\n",
    ")\n",
    "prompt_b = PromptTemplate(\n",
    "    input_variables=[\"input_text\"],\n",
    "    template=\"你是蘇格拉底式的輔導者，對於以下問題，請用啟發式提問的方式進行對話：{input_text}\"\n",
    ")\n",
    "\n",
    "# 創建兩個 LLMChain\n",
    "chain_a = LLMChain(llm=llm_a, prompt=prompt_a)\n",
    "chain_b = LLMChain(llm=llm_b, prompt=prompt_b)\n",
    "\n",
    "question = \"我最近感到很憂鬱，不知道如何面對生活中的困難。\"  # 初始問題\n",
    "\n",
    "# 1. 執行第一個 LLMChain\n",
    "result_a = chain_a.run(question)\n",
    "print(\"a: \", result_a)\n",
    "# 2. 執行第二個 LLMChain，基於第一個結果\n",
    "result_b = chain_b.run(result_a)\n",
    "print(\"b： \", result_b)\n",
    "\n"
   ]
  }
 ],
 "metadata": {
  "kernelspec": {
   "display_name": "base",
   "language": "python",
   "name": "python3"
  },
  "language_info": {
   "codemirror_mode": {
    "name": "ipython",
    "version": 3
   },
   "file_extension": ".py",
   "mimetype": "text/x-python",
   "name": "python",
   "nbconvert_exporter": "python",
   "pygments_lexer": "ipython3",
   "version": "3.12.4"
  }
 },
 "nbformat": 4,
 "nbformat_minor": 2
}
