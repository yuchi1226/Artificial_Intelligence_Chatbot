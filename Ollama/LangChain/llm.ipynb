{
 "cells": [
  {
   "cell_type": "code",
   "execution_count": 1,
   "metadata": {},
   "outputs": [
    {
     "name": "stderr",
     "output_type": "stream",
     "text": [
      "/tmp/ipykernel_20366/7454329.py:20: LangChainDeprecationWarning: The class `LLMChain` was deprecated in LangChain 0.1.17 and will be removed in 1.0. Use :meth:`~RunnableSequence, e.g., `prompt | llm`` instead.\n",
      "  chain1 = LLMChain(llm=llm1, prompt=prompt1)\n",
      "/tmp/ipykernel_20366/7454329.py:36: LangChainDeprecationWarning: The method `Chain.run` was deprecated in langchain 0.1.0 and will be removed in 1.0. Use :meth:`~invoke` instead.\n",
      "  result1 = chain1.run(input_text)\n"
     ]
    },
    {
     "name": "stdout",
     "output_type": "stream",
     "text": [
      "第一部分結果： LangChain是一個強大的工具，幫助開發者快速構建基於語言模型的應用程式，可以簡化程式的寫法和管理複雜的流程，使開發更容易、快捷且高效。\n",
      "\n",
      "第二部分結果： 根據給出的文字，我們可以將 LangChain 的重點如下：\n",
      "\n",
      "1. **功能**: LangChain 是一種工具，用於構建基於語言模型的應用程式。\n",
      "2. **利器性**: LangChain 將開發者提供了一種簡單的方式，讓他們能快速地構建相關的應用程式。\n",
      "3. **適用場景**: LangChain 可以應用在語言模型基礎上的應用程式中。\n",
      "\n",
      "如果需要進一步分析或提問，我可以幫助您。\n",
      "\n",
      "最終回答： 根據給出的文字，LangChain是一種強大的工具，可以幫助開發者快速構建基於語言模型的應用程式。它提供了一種簡單的方式，讓開發者可以在短時間內完成相關的工作。 LangChain 的主要功能包括：\n",
      "\n",
      "* 构建基于语言模型的应用程序\n",
      "* 简化开发流程和管理复杂流程\n",
      "\n",
      "LangChain 是一种利器，它为 开发者提供了一种快速、易于使用的工具，可以帮助他们更快地构建相关应用程序。它可以在各种场合应用，特别是在基于语言模型的应用程序中。\n",
      "\n",
      "总之，LangChain 是一个强大的工具，能够提高开发效率和简化流程，使开发者更容易、快捷且高效地创建应用程序。\n"
     ]
    }
   ],
   "source": [
    "from langchain.chains import LLMChain\n",
    "from langchain.prompts import PromptTemplate\n",
    "from langchain_ollama.llms import OllamaLLM\n",
    "\n",
    "# 初始化 OllamaLLM\n",
    "llm1 = OllamaLLM(model='llama3.2')\n",
    "llm2 = OllamaLLM(model='llama3.2') \n",
    "\n",
    "# 定義兩個不同的 Prompt 模板\n",
    "prompt1 = PromptTemplate(\n",
    "    input_variables=[\"input_text\"],\n",
    "    template=\"請根據以下內容生成一個摘要：{input_text}\"\n",
    ")\n",
    "prompt2 = PromptTemplate(\n",
    "    input_variables=[\"input_text\"],\n",
    "    template=\"請對以下文字進行分析，並生成相關的重點：{input_text}\"\n",
    ")\n",
    "\n",
    "# 創建兩個 LLMChain\n",
    "chain1 = LLMChain(llm=llm1, prompt=prompt1)\n",
    "chain2 = LLMChain(llm=llm2, prompt=prompt2)\n",
    "\n",
    "# 定義一個新的 Prompt 模板，讓第三個問題基於前兩個結果\n",
    "final_prompt = PromptTemplate(\n",
    "    input_variables=[\"combined_text\"],\n",
    "    template=\"以下是兩個生成結果的結合：{combined_text}\\n請基於此生成一個綜合回答。\"\n",
    ")\n",
    "\n",
    "# 初始化最後的 LLMChain\n",
    "final_chain = LLMChain(llm=OllamaLLM(model='llama3.2'), prompt=final_prompt)\n",
    "\n",
    "# 輸入文本\n",
    "input_text = \"LangChain 是一個強大的工具，讓開發者能輕鬆構建基於語言模型的應用程式。\"\n",
    "\n",
    "# 1. 執行第一個 LLMChain\n",
    "result1 = chain1.run(input_text)\n",
    "\n",
    "# 2. 執行第二個 LLMChain，基於第一個結果\n",
    "result2 = chain2.run(input_text)\n",
    "\n",
    "# 3. 將兩個結果結合\n",
    "combined_text = f\"第一部分結果：{result1}\\n第二部分結果：{result2}\"\n",
    "\n",
    "# 4. 使用結合的結果，生成最終回答\n",
    "final_result = final_chain.run(combined_text)\n",
    "\n",
    "# 輸出所有步驟結果\n",
    "print(\"第一部分結果：\", result1)\n",
    "print(\"\\n第二部分結果：\", result2)\n",
    "print(\"\\n最終回答：\", final_result)\n"
   ]
  }
 ],
 "metadata": {
  "kernelspec": {
   "display_name": "base",
   "language": "python",
   "name": "python3"
  },
  "language_info": {
   "codemirror_mode": {
    "name": "ipython",
    "version": 3
   },
   "file_extension": ".py",
   "mimetype": "text/x-python",
   "name": "python",
   "nbconvert_exporter": "python",
   "pygments_lexer": "ipython3",
   "version": "3.12.4"
  }
 },
 "nbformat": 4,
 "nbformat_minor": 2
}
