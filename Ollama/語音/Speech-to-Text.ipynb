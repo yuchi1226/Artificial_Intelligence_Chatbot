{
 "cells": [
  {
   "cell_type": "code",
   "execution_count": null,
   "metadata": {},
   "outputs": [],
   "source": [
    "import whisper\n",
    "\n",
    "if __name__ == '__main__':\n",
    "    model = whisper.load_model(\"tiny\")\n",
    "    result = model.transcribe(\"/home/yuchi/Artificial_Intelligence_Chatbot/Ollama/語音/日研究單腳站立1分鐘等於走50分鐘效果.mp3\", fp16=False, language=\"Chinese\")\n",
    "    print(result[\"text\"])"
   ]
  }
 ],
 "metadata": {
  "kernelspec": {
   "display_name": "base",
   "language": "python",
   "name": "python3"
  },
  "language_info": {
   "codemirror_mode": {
    "name": "ipython",
    "version": 3
   },
   "file_extension": ".py",
   "mimetype": "text/x-python",
   "name": "python",
   "nbconvert_exporter": "python",
   "pygments_lexer": "ipython3",
   "version": "3.12.4"
  }
 },
 "nbformat": 4,
 "nbformat_minor": 2
}
