{
 "cells": [
  {
   "cell_type": "code",
   "execution_count": 1,
   "metadata": {},
   "outputs": [
    {
     "name": "stdout",
     "output_type": "stream",
     "text": [
      "彰化地區有什麼好玩的\n",
      "彰化是台灣的一個重要城市，位於中部高山區域。這裡 bietet許多好玩的景點和活動，讓你可以在休闲、冒險、文化體驗等方面享受!\n",
      "\n",
      "以下是彰化地區有哪些好玩的景點：\n",
      "\n",
      "1. **太清宮**：一座美麗的天主教神廟，是台語名詞「太清」所源於此。\n",
      "2. **大石頭**：是一個巨大的石頭，高達21米，成為彰化地區的一個景點和拍照地。\n",
      "3. **新化文物園**：一座保存著 Taiwanese 文化遺產的園林，包含了多個古舊建築和美麗的花卉。\n",
      "4. **太白水坑**：是一個自然游泳池，由於水源自於山上流經的山溪，因此水質清澈、可觀景。\n",
      "5. **新化大社老街**：一條風格豐富的街區，包含了多個古舊建築和美麗的街口環境。\n",
      "\n",
      "除了這些景點以外，彰化地區還有許多其他好玩的活動和景點 waiting for you！\n",
      "\n",
      "彰化地區有什麼好吃的\n",
      "彰化地區是台中市的一個地級行政區，具有豐富的文化遺產和美味的當地風味。以下是一些彰化地區的好吃食物：\n",
      "\n",
      "1. **彰化火車頭**: 彰化火車頭是一種特殊的火車頭糕，與火車頭咖啡一起享受是這個區域的特色之一。\n",
      "2. **芒果**: 芒果是彰化地區產生的食用豆子，通常用做芒果粥或芒果汁。它具有豐富的營養和口感。\n",
      "3. **彰化酸奶**: 彰化酸奶是一種獨特的酸奶，使用牛奶製成，並加上特殊的酵母培養法，以產生濃郁的味道。\n",
      "4. **草豆糕**: 草豆糕是彰化地區的一種 traditional 糕料，使用草豆粉、糖和水製成。它具有豐富的營養和口感。\n",
      "5. **彰化雞蛋糕**: 彰化雞蛋糕是一種特殊的蛋糕，使用雞蛋和糖製成，並加上豐富的油膩來增強口感。\n",
      "\n",
      "這些食物是彰化地區的特色之一，並且能夠讓你體驗到這個區域的美味文化。\n"
     ]
    }
   ],
   "source": [
    "from langchain_ollama.llms import OllamaLLM\n",
    "llm2 = OllamaLLM(model='llama3.2')\n",
    "# 發問並取得回答\n",
    "question1 = \"彰化地區有什麼好玩的\"\n",
    "answer1 = llm2.invoke(question1)\n",
    "print(question1)\n",
    "print(answer1)\n",
    "print(\"\")\n",
    "question2 = \"彰化地區有什麼好吃的\"\n",
    "answer2 = llm2.invoke(question2)\n",
    "print(question2)\n",
    "print(answer2)"
   ]
  }
 ],
 "metadata": {
  "kernelspec": {
   "display_name": "base",
   "language": "python",
   "name": "python3"
  },
  "language_info": {
   "codemirror_mode": {
    "name": "ipython",
    "version": 3
   },
   "file_extension": ".py",
   "mimetype": "text/x-python",
   "name": "python",
   "nbconvert_exporter": "python",
   "pygments_lexer": "ipython3",
   "version": "3.12.4"
  }
 },
 "nbformat": 4,
 "nbformat_minor": 2
}
