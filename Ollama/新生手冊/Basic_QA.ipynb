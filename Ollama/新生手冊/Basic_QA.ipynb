{
 "cells": [
  {
   "cell_type": "code",
   "execution_count": 2,
   "metadata": {},
   "outputs": [
    {
     "name": "stdout",
     "output_type": "stream",
     "text": [
      "彰化地區有什麼好玩的\n",
      "彰化地區的好玩之類包括：\n",
      "\n",
      "1. 山海道三十六景：作品于1832年，由歌川豊一郎以油彩技法完成，展现了日本最著名的風光效果。这封畫师翻全。\n",
      "\n",
      "2. 阿里伯特三重山：一座美丽的自然景观地貌，招人多，往往可以随意参观和散步。\n",
      "\n",
      "3. 彰化禅寺：古建築嵇用木材，简洁有力，其中的山水画也非常人喜。\n",
      "\n",
      "4. 彰化市散賑市場：一大推介鄰近地区农村的甘品、海鮮等，可以品喝了解彰化地区特色美食。\n",
      "don't hesitate to reach out if you have more questions!\n",
      "\n",
      "彰化地區有什麼好吃的\n",
      "彰化地區內有許多美食経験，以下是一些你可能會喜歡的地方：\n",
      "\n",
      "1. 泰康宮 (Taikang Palace) - 这是一家親切的小吃店，提供全面的泰昌地方菜式，如炸鳕鰍、麻味土豆丸、沙疊油酒等。\n",
      "\n",
      "2. 艾企士 (Ai Qi Che) - 提供各式和實家菜，如泰康饮品、泰昌沙茶、泰康糕点、麻味土豆丸等。\n",
      "\n",
      "3. 泰昌老街 (Thai-Cham Rue) - 这是一座老城区，有众多的小食店和茶養氣的店家，如泰昌炸火兜、泰昌各式沙茶、泰昌沙貓糕等。\n",
      "\n",
      "4. 泰昌市集 (Thai-Cham Chow) - 一个聚集很多小食店的地方，提供泰昌菜品，如泰昌各式沙茶、泰昌麻味土豆丸等。\n",
      "\n",
      "5. 泰昌早餐 (Thai-Cham Tom Yum) - 提供泰昌特色的早餐，如泰昌早餐招人、泰昌炸鳕鰍、泰昌麻味土豆丸等。\n",
      "\n",
      "6. 泰昌晚餐 (Thai-Cham Pad Thai) - 提供泰昌地方的素食飲品，如泰昌泰湯、泰昌泰郎、泰昌泰山、泰昌泰風等。\n",
      "\n",
      "7. 泰昌夜市 (Thai-Cham Nite Market) - 一個有色紅地方，提供泰昌地方的小食，如泰昌烤骨、泰昌炸鳕鰍、泰昌麻味土豆丸等。\n",
      "\n",
      "你可以前往上述地区探索美食，享受彰化地區的美食文化。\n"
     ]
    }
   ],
   "source": [
    "from langchain_ollama.llms import OllamaLLM\n",
    "llm2 = OllamaLLM(model='phi3')\n",
    "# 發問並取得回答\n",
    "question1 = \"彰化地區有什麼好玩的\"\n",
    "answer1 = llm2.invoke(question1)\n",
    "print(question1)\n",
    "print(answer1)\n",
    "print(\"\")\n",
    "question2 = \"彰化地區有什麼好吃的\"\n",
    "answer2 = llm2.invoke(question2)\n",
    "print(question2)\n",
    "print(answer2)"
   ]
  }
 ],
 "metadata": {
  "kernelspec": {
   "display_name": "base",
   "language": "python",
   "name": "python3"
  },
  "language_info": {
   "codemirror_mode": {
    "name": "ipython",
    "version": 3
   },
   "file_extension": ".py",
   "mimetype": "text/x-python",
   "name": "python",
   "nbconvert_exporter": "python",
   "pygments_lexer": "ipython3",
   "version": "3.12.4"
  }
 },
 "nbformat": 4,
 "nbformat_minor": 2
}
