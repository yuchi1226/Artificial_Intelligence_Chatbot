{
 "cells": [
  {
   "cell_type": "code",
   "execution_count": 1,
   "metadata": {},
   "outputs": [
    {
     "name": "stdout",
     "output_type": "stream",
     "text": [
      "Joseph Robinette \"Joe\" Biden Jr. hails from Scranton, Pennsylvania, a vibrant industrial town known for its steel mills and coal mines that have long been central to American industry. Born on November 20, 1942, in Wilmington, Delaware, he later moved with his family as an infant back to the working-class neighborhood of Scranton, where they resided at Thornydale Road during his youth years before returning to live again briefly in New Castle. Biden's connection to Pennsylvania is a prominent aspect of his identity and has played a significant role throughout his political career which began with serving as an assistant prosecutor for the United States Attorney’s Office representing Lackawanna County, continuing into law enforcement where he worked within state government in Delaware before returning to public life. His roots remain strongly tied to Pennsylvania though it might not have been from there that his journey started and ended; rather a mix of experiences across several states contributed significantly to shaping him as the person we see today – an experienced politician, lawyer with vast knowledge about governance and policies who stands at present for President of United States.\n"
     ]
    },
    {
     "data": {
      "text/plain": [
       "'\\nJoe Biden is from the city of Scranton, Pennsylvania.\\n'"
      ]
     },
     "execution_count": 1,
     "metadata": {},
     "output_type": "execute_result"
    }
   ],
   "source": [
    "from langchain_core.output_parsers import StrOutputParser\n",
    "from langchain_core.prompts import ChatPromptTemplate\n",
    "from langchain_ollama.llms import OllamaLLM\n",
    "model = OllamaLLM(model='phi3')\n",
    "\n",
    "prompt1 = ChatPromptTemplate.from_template(\"what is the city {person} is from?\")\n",
    "\n",
    "chain1 = prompt1 | model | StrOutputParser()\n",
    "\n",
    "result = chain1.invoke({\"person\": \"Biden\"})\n",
    "print(result)\n",
    "\n",
    "\"\"\"\n",
    "Joe Biden is from the city of Scranton, Pennsylvania.\n",
    "\"\"\""
   ]
  },
  {
   "cell_type": "code",
   "execution_count": 2,
   "metadata": {},
   "outputs": [
    {
     "name": "stdout",
     "output_type": "stream",
     "text": [
      "\n",
      "美国总统冯·博斯顿（Biden），他在1942年11月20日在加州的苹森特区（Scranton）出生，但他的家族长辈是从德国向美国搬动过的一些人。尽管他成为了由加西亚陶特州的一位立法代表，然后在华盛Laider（Washington D.C。）搬到，他的出生城市是苹方（Philadelphia）——那里的人们还能看到他的家族成员在过去往来。苹方不仅是加州最大的城市，而且位于威尔士堡（Wilmington）德国邻国边境上的一个小市镇之一。为了回答你的问题，以下是对信息的中文描述：\n",
      "\n",
      "苹方这么说，冯·博斯顿（Biden），这位美国总统，他的身份和家族的穆尔塔（Middletown）是在1942年11月20日在加州的苹森特区（Scranton）出生的。然而，他有一段悠久的历史，他在家族中起源于德国的资产阶缓。在战时期，他的祖父等人从德国向美国移动过来了，并在德国那里的一个小市镇即为威尔士堡（Wilmington）出生。这个小市镇就是他们的家乡，正如苹方的居住者一样。\n",
      "\n",
      "苹方不仅是最大的城市之一，而且位于美国的其中一部分，威尔士堡（Wilmington）也属德国邻国边境上的小市镇。在冯·博斯顿的生涯中，他先后在苹方和威尔士堡都有过学习经历，并且他的家族长辈也是美国留学生。他们凭借良好教育支持，成功地脱颖而出来，尽管他们的搬动到了美国后，他们始终保留对他们的忠诚和关心。\n",
      "0\n"
     ]
    }
   ],
   "source": [
    "from langchain_ollama.llms import OllamaLLM\n",
    "from operator import itemgetter\n",
    "from langchain_core.output_parsers import StrOutputParser\n",
    "from langchain_core.prompts import ChatPromptTemplate\n",
    "prompt1 = ChatPromptTemplate.from_template(\"what is the city {person} is from?\")\n",
    "prompt2 = ChatPromptTemplate.from_template(\n",
    "    \"what country is the city {city} in? respond in {language}\"\n",
    ")\n",
    "model = OllamaLLM(model='phi3')\n",
    "chain1 = prompt1 | model | StrOutputParser()\n",
    "chain2 = (\n",
    "    {\"city\": chain1, \"language\": itemgetter(\"language\")}\n",
    "    | prompt2\n",
    "    | model\n",
    "    | StrOutputParser()\n",
    ")\n",
    "result = chain2.invoke({\"person\": \"Biden\", \"language\": \"chinese\"})\n",
    "print(result)"
   ]
  },
  {
   "cell_type": "code",
   "execution_count": 3,
   "metadata": {},
   "outputs": [
    {
     "name": "stdout",
     "output_type": "stream",
     "text": [
      "滿月國的一位人物戴尼·玄奕，他出生在1942年11月20日，被认为来自美国特定地区的华人党领导人，其政治形象很大程度上影孩特了基于早期的讲故事和公共服务。\n",
      "\n",
      "首先，华人·玄奕最多以其成长期在接近之附近的美国地区为基礎。一些媒体和他的同伴们可能会指出戴尼·玄奕来自半南西部的美国，特别是在白色鳶雄州及其南部与新哮那州相際地。这些地方对他的公共服务和政治活动具有重要意义，并且均为美国的澜雅美国公民留下了深刻的回忆。\n",
      "\n",
      "在临时大牙州统治者职位之前，华人·玄奕已满足居住该州7年连续条件，并且他是有永久身份地澜雅美国公民的。在这个过程中，他和妻子瑋拉·基本巴丁披靠在德拉梅尔州的原因有两点：一是这是他儿时所经历的地方，也是他与妻子共同的生活片段；二是他们之前已经在该地亲缅服务。\n",
      "\n",
      "虽然华人·玄奕出生于蘇特內州城市斯克林諾，但大多数人将其认为来自德拉梅尔州的一些地区，如白色鳶雄州或其中的新哮那州，因爲这些地方对他儿时经历和公共服务工作至关重要。\n",
      "\n",
      "至于华人·玄奕与台湾的关系，根据提供的信息，并没有直接提及。然而，他的出生地归于美国，为何他在公共服务中会关联到台湾或其邻近地区的问题是一个值得询问的。如果存在过去，华人·玄奕可能与台湾有相关联的事件或者人物；他对美国及特定地区的政治和社会影响可能也扩展到了台湾，但这需要进一步的信息来明确。\n"
     ]
    }
   ],
   "source": [
    "from langchain_ollama.llms import OllamaLLM\n",
    "from operator import itemgetter\n",
    "from langchain_core.output_parsers import StrOutputParser\n",
    "from langchain_core.prompts import ChatPromptTemplate\n",
    "\n",
    "prompt1 = ChatPromptTemplate.from_template(\"what is the city {person} is from?\")\n",
    "prompt2 = ChatPromptTemplate.from_template(\n",
    "    \"what country is the city {city} in? respond in {language}\"\n",
    ")\n",
    "prompt3 = ChatPromptTemplate.from_template(\n",
    "    \"{country} 與台灣的關係如何呢? 請以{traditional_c}回答\"\n",
    ")\n",
    "\n",
    "model = OllamaLLM(model='phi3')\n",
    "\n",
    "chain1 = prompt1 | model | StrOutputParser()\n",
    "\n",
    "chain2 = (\n",
    "    {\"city\": chain1, \"language\": itemgetter(\"language\")}\n",
    "    | prompt2\n",
    "    | model\n",
    "    | StrOutputParser()\n",
    ")\n",
    "\n",
    "chain3 = (\n",
    "    {\"country\": chain2, \"traditional_c\": itemgetter(\"language\")}\n",
    "    | prompt3\n",
    "    | model\n",
    "    | StrOutputParser()\n",
    ")\n",
    "\n",
    "result = chain3.invoke({\"person\": \"Biden\", \"language\": \"繁體中文\"})\n",
    "print(result)"
   ]
  }
 ],
 "metadata": {
  "kernelspec": {
   "display_name": "base",
   "language": "python",
   "name": "python3"
  },
  "language_info": {
   "codemirror_mode": {
    "name": "ipython",
    "version": 3
   },
   "file_extension": ".py",
   "mimetype": "text/x-python",
   "name": "python",
   "nbconvert_exporter": "python",
   "pygments_lexer": "ipython3",
   "version": "3.12.4"
  }
 },
 "nbformat": 4,
 "nbformat_minor": 2
}
